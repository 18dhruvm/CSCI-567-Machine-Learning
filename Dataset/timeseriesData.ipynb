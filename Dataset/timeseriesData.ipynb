{
  "cells": [
    {
      "cell_type": "code",
      "execution_count": null,
      "metadata": {
        "id": "0Aap4XHLIc57"
      },
      "outputs": [],
      "source": [
        "import pandas as pd\n",
        "import numpy as np"
      ]
    },
    {
      "cell_type": "code",
      "execution_count": null,
      "metadata": {
        "id": "O6lcScd5KufO"
      },
      "outputs": [],
      "source": [
        "train_logs = pd.read_csv(r'../Dataset/train_logs.csv')\n",
        "test_scores = pd.read_csv(r'../Dataset/final_df.csv/train_scores.csv')"
      ]
    },
    {
      "cell_type": "code",
      "execution_count": null,
      "metadata": {
        "id": "UX_tYXwAWXYS"
      },
      "outputs": [],
      "source": [
        "train_logs.drop(\"down_event\", axis=1, inplace=True)"
      ]
    },
    {
      "cell_type": "code",
      "execution_count": null,
      "metadata": {
        "colab": {
          "base_uri": "https://localhost:8080/"
        },
        "id": "aD0-x_YWLB6n",
        "outputId": "74917b37-9238-4b4a-cea8-93294f5dd8a2"
      },
      "outputs": [
        {
          "data": {
            "text/plain": [
              "array(['Nonproduction', 'Input', 'Remove/Cut', 'Replace',\n",
              "       'Move From [284, 292] To [282, 290]',\n",
              "       'Move From [287, 289] To [285, 287]',\n",
              "       'Move From [460, 461] To [465, 466]', 'Paste',\n",
              "       'Move From [905, 1314] To [907, 1316]',\n",
              "       'Move From [565, 743] To [669, 847]',\n",
              "       'Move From [669, 847] To [565, 743]',\n",
              "       'Move From [1041, 1121] To [1496, 1576]',\n",
              "       'Move From [1455, 1557] To [1323, 1425]',\n",
              "       'Move From [2268, 2275] To [2247, 2254]',\n",
              "       'Move From [213, 302] To [902, 991]',\n",
              "       'Move From [0, 158] To [234, 392]',\n",
              "       'Move From [460, 465] To [925, 930]',\n",
              "       'Move From [810, 906] To [816, 912]',\n",
              "       'Move From [186, 187] To [184, 185]',\n",
              "       'Move From [140, 272] To [299, 431]',\n",
              "       'Move From [114, 140] To [272, 298]',\n",
              "       'Move From [1386, 1450] To [1445, 1509]',\n",
              "       'Move From [442, 524] To [296, 378]',\n",
              "       'Move From [408, 414] To [390, 396]',\n",
              "       'Move From [1144, 1147] To [1142, 1145]',\n",
              "       'Move From [218, 220] To [206, 208]',\n",
              "       'Move From [164, 165] To [153, 154]',\n",
              "       'Move From [623, 632] To [624, 633]',\n",
              "       'Move From [747, 960] To [1041, 1254]',\n",
              "       'Move From [274, 314] To [299, 339]',\n",
              "       'Move From [624, 625] To [845, 846]',\n",
              "       'Move From [1861, 2063] To [1766, 1968]',\n",
              "       'Move From [1766, 1968] To [1861, 2063]',\n",
              "       'Move From [2091, 2179] To [252, 340]',\n",
              "       'Move From [923, 1077] To [340, 494]',\n",
              "       'Move From [0, 1] To [590, 591]',\n",
              "       'Move From [999, 1000] To [1000, 1001]',\n",
              "       'Move From [13, 65] To [9, 61]',\n",
              "       'Move From [1651, 1769] To [1565, 1683]',\n",
              "       'Move From [61, 136] To [0, 75]', 'Move From [0, 75] To [1, 76]',\n",
              "       'Move From [75, 134] To [304, 363]',\n",
              "       'Move From [289, 355] To [562, 628]',\n",
              "       'Move From [944, 1102] To [1050, 1208]',\n",
              "       'Move From [1306, 1371] To [1061, 1126]',\n",
              "       'Move From [1061, 1126] To [1306, 1371]',\n",
              "       'Move From [1361, 1362] To [1358, 1359]',\n",
              "       'Move From [51, 86] To [109, 144]',\n",
              "       'Move From [134, 169] To [122, 157]',\n",
              "       'Move From [382, 437] To [458, 513]'], dtype=object)"
            ]
          },
          "execution_count": 36,
          "metadata": {},
          "output_type": "execute_result"
        }
      ],
      "source": [
        "train_logs.head(10)\n",
        "train_logs['activity'].unique()"
      ]
    },
    {
      "cell_type": "code",
      "execution_count": null,
      "metadata": {
        "colab": {
          "base_uri": "https://localhost:8080/"
        },
        "id": "CETzWfOpMKQ-",
        "outputId": "eca81eb9-44da-4cf1-d622-e406b3f24cf6"
      },
      "outputs": [
        {
          "data": {
            "text/plain": [
              "array(['Nonproduction', 'Input', 'Remove/Cut', 'Replace', 'Paste'],\n",
              "      dtype=object)"
            ]
          },
          "execution_count": 37,
          "metadata": {},
          "output_type": "execute_result"
        }
      ],
      "source": [
        "train_logs = train_logs[~train_logs['activity'].str.contains('Move')]\n",
        "train_logs.shape\n",
        "train_logs['activity'].unique()"
      ]
    },
    {
      "cell_type": "code",
      "execution_count": null,
      "metadata": {
        "colab": {
          "base_uri": "https://localhost:8080/"
        },
        "id": "XNaibocF0JpN",
        "outputId": "23bb4b84-accb-4d06-f192-da96289a2cea"
      },
      "outputs": [
        {
          "data": {
            "text/plain": [
              "q               5364789\n",
              "Space           1207128\n",
              "Backspace        964089\n",
              "Shift            334227\n",
              "ArrowRight       121338\n",
              "Leftclick         91084\n",
              "ArrowLeft         63217\n",
              ".                 59586\n",
              ",                 46806\n",
              "ArrowDown         30874\n",
              "ArrowUp           28189\n",
              "Enter             22689\n",
              "CapsLock          12568\n",
              "'                 11170\n",
              "Delete            10965\n",
              "Unidentified       6151\n",
              "Control            4885\n",
              "\"                  4102\n",
              "-                  3843\n",
              "?                  3155\n",
              "Name: up_event, dtype: int64"
            ]
          },
          "execution_count": 38,
          "metadata": {},
          "output_type": "execute_result"
        }
      ],
      "source": [
        "train_logs['up_event'].value_counts().head(20)"
      ]
    },
    {
      "cell_type": "code",
      "execution_count": null,
      "metadata": {
        "id": "Hi9rAYpP1FTP"
      },
      "outputs": [],
      "source": [
        "train_logs['up_event'] = train_logs['up_event'].apply(lambda x: '@' if x not in ['q', 'Space', 'Backspace', 'Shift', 'ArrowRight', '.', ',', 'ArrowDown', 'ArrowUp', 'Enter', 'CapsLock', \"'\", 'Delete'] else x)"
      ]
    },
    {
      "cell_type": "code",
      "execution_count": null,
      "metadata": {
        "colab": {
          "base_uri": "https://localhost:8080/"
        },
        "id": "bHELjd1i1vun",
        "outputId": "37c0eb94-e8d0-4ba8-c571-965510e4d86d"
      },
      "outputs": [
        {
          "data": {
            "text/plain": [
              "q           6128204\n",
              "            1376827\n",
              "NoChange     703851\n",
              ".             67797\n",
              ",             54797\n",
              "\\n            27976\n",
              "'             13192\n",
              "\"              4659\n",
              "-              4492\n",
              "?              3507\n",
              ";              2905\n",
              "=              2288\n",
              "/              1354\n",
              "\\              1100\n",
              ":               813\n",
              "(               733\n",
              "[               725\n",
              ")               660\n",
              "!               639\n",
              "q => q          238\n",
              "Name: text_change, dtype: int64"
            ]
          },
          "execution_count": 41,
          "metadata": {},
          "output_type": "execute_result"
        }
      ],
      "source": [
        "train_logs['text_change'].value_counts().head(20)"
      ]
    },
    {
      "cell_type": "code",
      "execution_count": null,
      "metadata": {
        "id": "jElnsNV6_nPD"
      },
      "outputs": [],
      "source": [
        "train_logs['up_event'] = train_logs['up_event'].apply(lambda x: '$' if x not in ['q', ' ', 'NoChange', '.', ',', '\\n'] else x)"
      ]
    },
    {
      "cell_type": "code",
      "execution_count": null,
      "metadata": {
        "id": "aQ-WwRjW5V31"
      },
      "outputs": [],
      "source": [
        "train_logs.to_csv(r'timeseries.csv', index=False)"
      ]
    }
  ],
  "metadata": {
    "colab": {
      "provenance": []
    },
    "kernelspec": {
      "display_name": "Python 3",
      "name": "python3"
    },
    "language_info": {
      "name": "python"
    }
  },
  "nbformat": 4,
  "nbformat_minor": 0
}
