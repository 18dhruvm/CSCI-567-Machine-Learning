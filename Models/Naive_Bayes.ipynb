{
  "nbformat": 4,
  "nbformat_minor": 0,
  "metadata": {
    "colab": {
      "provenance": []
    },
    "kernelspec": {
      "name": "python3",
      "display_name": "Python 3"
    },
    "language_info": {
      "name": "python"
    }
  },
  "cells": [
    {
      "cell_type": "code",
      "execution_count": null,
      "metadata": {
        "id": "SZ06SSpa8clu"
      },
      "outputs": [],
      "source": [
        "import pandas as pd\n",
        "import numpy as np\n",
        "import matplotlib.pyplot as plt\n",
        "import seaborn as sns\n",
        "from sklearn.model_selection import train_test_split\n",
        "from sklearn.linear_model import LinearRegression\n",
        "from sklearn.metrics import mean_squared_error\n",
        "import warnings\n",
        "from sklearn.preprocessing import LabelEncoder\n",
        "from sklearn.preprocessing import StandardScaler\n",
        "from sklearn.preprocessing import RobustScaler\n",
        "from sklearn.preprocessing import MinMaxScaler\n",
        "from sklearn.decomposition import PCA\n",
        "warnings.filterwarnings(\"ignore\")"
      ]
    },
    {
      "cell_type": "code",
      "source": [
        "df_final=pd.read_csv('/kaggle/input/final-df/final_df.csv')"
      ],
      "metadata": {
        "id": "JV7_-PBj_Uaj"
      },
      "execution_count": null,
      "outputs": []
    },
    {
      "cell_type": "code",
      "source": [
        "le = LabelEncoder()\n",
        "df_final['class'] = le.fit_transform(df_final['score'])\n",
        "df_final = df_final.drop('id', axis=1)\n",
        "df_final = df_final.drop('score', axis=1)\n",
        "df_final.head()"
      ],
      "metadata": {
        "id": "j1-u-jib_X97"
      },
      "execution_count": null,
      "outputs": []
    },
    {
      "cell_type": "code",
      "source": [
        "X_train, X_test, y_train, y_test = train_test_split(df_final.drop('class', axis=1), df_final['class'], test_size=0.20, random_state=42)\n",
        "\n",
        "sc = MinMaxScaler()\n",
        "\n",
        "X_train = sc.fit_transform(X_train)\n",
        "X_test = sc.transform(X_test)\n",
        "\n",
        "pca = PCA(n_components = 1)\n",
        "\n",
        "X_train = pca.fit_transform(X_train)\n",
        "X_test = pca.transform(X_test)\n",
        "\n",
        "explained_variance = pca.explained_variance_ratio_\n",
        "\n",
        "gnb4 = GaussianNB()\n",
        "gnb4.fit(X_train, y_train)\n",
        "y_pred4 = gnb4.predict(X_test)\n",
        "accuracy = accuracy_score(y_test, y_pred4)\n",
        "\n",
        "print('Accuracy:', accuracy)"
      ],
      "metadata": {
        "id": "5PyQA17P_iE6"
      },
      "execution_count": null,
      "outputs": []
    },
    {
      "cell_type": "code",
      "source": [
        "predicted_scores = le.inverse_transform(y_pred4)\n",
        "y_test_tra = le.inverse_transform(y_test)\n",
        "print(np.sqrt(np.mean((predicted_scores-y_test_tra)**2)))"
      ],
      "metadata": {
        "id": "Z0NOmsX4_-wa"
      },
      "execution_count": null,
      "outputs": []
    }
  ]
}