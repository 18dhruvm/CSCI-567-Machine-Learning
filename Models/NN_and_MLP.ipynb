{
  "nbformat": 4,
  "nbformat_minor": 0,
  "metadata": {
    "colab": {
      "provenance": []
    },
    "kernelspec": {
      "name": "python3",
      "display_name": "Python 3"
    },
    "language_info": {
      "name": "python"
    }
  },
  "cells": [
    {
      "cell_type": "code",
      "execution_count": 1,
      "metadata": {
        "id": "bu9vofzWQP79"
      },
      "outputs": [],
      "source": [
        "import pandas as pd\n",
        "import numpy as np\n",
        "from tensorflow import keras\n",
        "from tensorflow.keras import layers\n",
        "from sklearn.model_selection import train_test_split, GridSearchCV\n",
        "from sklearn.preprocessing import StandardScaler, LabelEncoder\n",
        "from sklearn.neural_network import MLPClassifier\n",
        "from sklearn.metrics import make_scorer, mean_squared_error"
      ]
    },
    {
      "cell_type": "markdown",
      "source": [
        "Neural Network"
      ],
      "metadata": {
        "id": "DnCvzNJx1IW5"
      }
    },
    {
      "cell_type": "code",
      "source": [
        "df = pd.read_csv('/content/drive/Shareddrives/CSCI567/CSCI567/writing_quality/final_df.csv')\n",
        "\n",
        "X = df.drop(['id', 'score'], axis=1)\n",
        "y = df['score']\n",
        "\n",
        "scaler = StandardScaler()\n",
        "X_scaled = scaler.fit_transform(X)\n",
        "\n",
        "X_train, X_test, y_train, y_test = train_test_split(X_scaled, y, test_size=0.2, random_state=42)\n",
        "\n",
        "# Neural network model\n",
        "model = keras.Sequential([\n",
        "    layers.Dense(64, activation='relu', input_shape=(X_train.shape[1],)),\n",
        "    layers.Dropout(0.5),\n",
        "    layers.Dense(32, activation='relu'),\n",
        "    layers.Dropout(0.3),\n",
        "    layers.Dense(16, activation='relu'),\n",
        "    layers.Dropout(0.1),\n",
        "    layers.Dense(8, activation='relu'),\n",
        "    layers.Flatten(),\n",
        "    layers.Dense(1, activation='linear')\n",
        "])\n",
        "\n",
        "model.compile(optimizer='adam', loss='mean_squared_error', metrics=['mean_absolute_error'])\n",
        "\n",
        "model.fit(X_train, y_train, epochs=50, batch_size=64, validation_split=0.2, verbose=False)\n",
        "\n",
        "y_pred = model.predict(X_test)\n",
        "rmse = np.sqrt(mean_squared_error(y_test, y_pred))\n",
        "print(f'Root Mean Squared Error on Test Set: {rmse}')\n"
      ],
      "metadata": {
        "colab": {
          "base_uri": "https://localhost:8080/"
        },
        "id": "e1jn5Z5XSwsO",
        "outputId": "6d7bbbfc-4d0b-4951-c922-f8162c6fe7ab"
      },
      "execution_count": null,
      "outputs": [
        {
          "output_type": "stream",
          "name": "stdout",
          "text": [
            "16/16 [==============================] - 0s 2ms/step\n",
            "Root Mean Squared Error on Test Set: 0.7824294685083744\n"
          ]
        }
      ]
    },
    {
      "cell_type": "markdown",
      "source": [
        "MLP with Grid Search Cross Validation"
      ],
      "metadata": {
        "id": "vRN8xNyszoA4"
      }
    },
    {
      "cell_type": "code",
      "source": [
        "data = pd.read_csv('/content/drive/Shareddrives/CSCI567/CSCI567/writing_quality/final_df.csv')\n",
        "\n",
        "label_encoder = LabelEncoder()\n",
        "data['score'] = label_encoder.fit_transform(data['score'])\n",
        "\n",
        "X = data.drop(['score', 'id'], axis=1)\n",
        "y = data['score']\n",
        "\n",
        "X_train, X_test, y_train, y_test = train_test_split(X, y, test_size=0.2, random_state=42)\n",
        "\n",
        "scaler = StandardScaler()\n",
        "X_train_scaled = scaler.fit_transform(X_train)\n",
        "X_test_scaled = scaler.transform(X_test)\n",
        "\n",
        "# Model defintiton\n",
        "model = MLPClassifier(max_iter=1000, random_state=42, early_stopping=True, validation_fraction=0.1, n_iter_no_change=10, warm_start=True)\n",
        "\n",
        "# grid search cv\n",
        "param_grid = {\n",
        "    'hidden_layer_sizes': [(50, 50, 25), (100, 50, 25), (200, 100, 50)],\n",
        "    'solver': ['adam', 'sgd'],\n",
        "    'activation': ['logistic', 'tanh', 'relu'],\n",
        "    'learning_rate_init': [0.01, 0.001, 0.0001]\n",
        "}\n",
        "\n",
        "scorer = make_scorer(mean_squared_error, squared=False)\n",
        "\n",
        "# CV\n",
        "grid_search = GridSearchCV(model, param_grid, cv=5, scoring=scorer, verbose=1, n_jobs=-1)\n",
        "grid_search.fit(X_train_scaled, y_train)\n",
        "\n",
        "print(\"Best Hyperparameters:\", grid_search.best_params_)\n",
        "\n",
        "best_model = grid_search.best_estimator_\n",
        "\n",
        "# Predictions\n",
        "y_pred = best_model.predict(X_test_scaled)\n",
        "\n",
        "# Inverse transform\n",
        "y_pred_original = label_encoder.inverse_transform(y_pred)\n",
        "y_test_original = label_encoder.inverse_transform(y_test)\n",
        "\n",
        "# RMSE\n",
        "rmse = np.sqrt(mean_squared_error(y_test_original, y_pred_original))\n",
        "print(f'Root Mean Squared Error (RMSE) on Test Set: {rmse}')\n"
      ],
      "metadata": {
        "id": "t68oiyDWk10e"
      },
      "execution_count": null,
      "outputs": []
    }
  ]
}